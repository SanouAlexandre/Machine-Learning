{
 "cells": [
  {
   "cell_type": "markdown",
   "metadata": {},
   "source": [
    "# Copyright (c) 2017 Anthony De Meulemeester "
   ]
  },
  {
   "cell_type": "markdown",
   "metadata": {},
   "source": [
    "# Part 1"
   ]
  },
  {
   "cell_type": "code",
   "execution_count": 1,
   "metadata": {},
   "outputs": [],
   "source": [
    "import numpy as np\n",
    "import pandas as pd\n",
    "import matplotlib.pyplot as plt\n",
    "\n",
    "from sklearn.feature_extraction.text import TfidfVectorizer, ENGLISH_STOP_WORDS\n",
    "from sklearn.pipeline import make_pipeline\n",
    "from sklearn.decomposition import PCA\n",
    "from sklearn.cluster import KMeans, MiniBatchKMeans\n",
    "from sklearn.manifold import TSNE\n",
    "from sklearn.decomposition import TruncatedSVD \n",
    "from sklearn.preprocessing import normalize \n",
    "\n",
    "from ml_helpers import * "
   ]
  },
  {
   "cell_type": "markdown",
   "metadata": {},
   "source": [
    "# Loading data"
   ]
  },
  {
   "cell_type": "code",
   "execution_count": 2,
   "metadata": {},
   "outputs": [
    {
     "data": {
      "text/html": [
       "<div>\n",
       "<style scoped>\n",
       "    .dataframe tbody tr th:only-of-type {\n",
       "        vertical-align: middle;\n",
       "    }\n",
       "\n",
       "    .dataframe tbody tr th {\n",
       "        vertical-align: top;\n",
       "    }\n",
       "\n",
       "    .dataframe thead th {\n",
       "        text-align: right;\n",
       "    }\n",
       "</style>\n",
       "<table border=\"1\" class=\"dataframe\">\n",
       "  <thead>\n",
       "    <tr style=\"text-align: right;\">\n",
       "      <th></th>\n",
       "      <th>Unnamed: 0</th>\n",
       "      <th>Target</th>\n",
       "      <th>Message</th>\n",
       "    </tr>\n",
       "  </thead>\n",
       "  <tbody>\n",
       "    <tr>\n",
       "      <th>0</th>\n",
       "      <td>0</td>\n",
       "      <td>internal company policy</td>\n",
       "      <td>Message-ID: &lt;32715630.1075840547840.JavaMail.e...</td>\n",
       "    </tr>\n",
       "    <tr>\n",
       "      <th>1</th>\n",
       "      <td>1</td>\n",
       "      <td>alliances / partnerships</td>\n",
       "      <td>Message-ID: &lt;8721012.1075863428380.JavaMail.ev...</td>\n",
       "    </tr>\n",
       "    <tr>\n",
       "      <th>2</th>\n",
       "      <td>2</td>\n",
       "      <td>internal company operations</td>\n",
       "      <td>Message-ID: &lt;8687721.1075852656109.JavaMail.ev...</td>\n",
       "    </tr>\n",
       "    <tr>\n",
       "      <th>3</th>\n",
       "      <td>3</td>\n",
       "      <td>internal company operations</td>\n",
       "      <td>Message-ID: &lt;16562450.1075846168630.JavaMail.e...</td>\n",
       "    </tr>\n",
       "    <tr>\n",
       "      <th>4</th>\n",
       "      <td>4</td>\n",
       "      <td>internal projects -- progress and strategy</td>\n",
       "      <td>Message-ID: &lt;955111.1075858690252.JavaMail.eva...</td>\n",
       "    </tr>\n",
       "  </tbody>\n",
       "</table>\n",
       "</div>"
      ],
      "text/plain": [
       "   Unnamed: 0                                      Target  \\\n",
       "0           0                     internal company policy   \n",
       "1           1                    alliances / partnerships   \n",
       "2           2                 internal company operations   \n",
       "3           3                 internal company operations   \n",
       "4           4  internal projects -- progress and strategy   \n",
       "\n",
       "                                             Message  \n",
       "0  Message-ID: <32715630.1075840547840.JavaMail.e...  \n",
       "1  Message-ID: <8721012.1075863428380.JavaMail.ev...  \n",
       "2  Message-ID: <8687721.1075852656109.JavaMail.ev...  \n",
       "3  Message-ID: <16562450.1075846168630.JavaMail.e...  \n",
       "4  Message-ID: <955111.1075858690252.JavaMail.eva...  "
      ]
     },
     "execution_count": 2,
     "metadata": {},
     "output_type": "execute_result"
    }
   ],
   "source": [
    "df = pd.read_csv('giskard_dataset.csv', delimiter=';')\n",
    "df.head()\n"
   ]
  },
  {
   "cell_type": "markdown",
   "metadata": {},
   "source": [
    "# Lets create a new frame with the data we need."
   ]
  },
  {
   "cell_type": "code",
   "execution_count": 3,
   "metadata": {},
   "outputs": [
    {
     "data": {
      "text/html": [
       "<div>\n",
       "<style scoped>\n",
       "    .dataframe tbody tr th:only-of-type {\n",
       "        vertical-align: middle;\n",
       "    }\n",
       "\n",
       "    .dataframe tbody tr th {\n",
       "        vertical-align: top;\n",
       "    }\n",
       "\n",
       "    .dataframe thead th {\n",
       "        text-align: right;\n",
       "    }\n",
       "</style>\n",
       "<table border=\"1\" class=\"dataframe\">\n",
       "  <thead>\n",
       "    <tr style=\"text-align: right;\">\n",
       "      <th></th>\n",
       "      <th>body</th>\n",
       "      <th>to</th>\n",
       "      <th>from_</th>\n",
       "    </tr>\n",
       "  </thead>\n",
       "  <tbody>\n",
       "    <tr>\n",
       "      <th>0</th>\n",
       "      <td>Enron Wholesale Services - Office of the Chair...</td>\n",
       "      <td>GILBERT-SMITH, DOUGLAS</td>\n",
       "      <td>Mark Frevert, Chairman &amp; CEO</td>\n",
       "    </tr>\n",
       "    <tr>\n",
       "      <th>1</th>\n",
       "      <td>-----Original Message-----Vince,FYI,Gwyn-----O...</td>\n",
       "      <td>Hudler, Cindy</td>\n",
       "      <td>Koepke, Gwyn</td>\n",
       "    </tr>\n",
       "    <tr>\n",
       "      <th>2</th>\n",
       "      <td>John Brindle, David Cromley and others in the ...</td>\n",
       "      <td>Steven J Kean/NA/Enron@Enron</td>\n",
       "      <td>David Cromley@ENRON COMMUNICATIONS on 06/12/20...</td>\n",
       "    </tr>\n",
       "    <tr>\n",
       "      <th>3</th>\n",
       "      <td>Yes.  Contact either Gia or John and get the b...</td>\n",
       "      <td>Govt Affairs (w/Assts), Mark Palmer/Corp/Enron...</td>\n",
       "      <td>steven.kean@enron.com</td>\n",
       "    </tr>\n",
       "    <tr>\n",
       "      <th>4</th>\n",
       "      <td>breasoner@gibbs-bruns.com, mlk@pkns.com, gferg...</td>\n",
       "      <td>gfergus@brobeck.com@SMTP; Tim Belden; Susan J ...</td>\n",
       "      <td>Alan Comnes</td>\n",
       "    </tr>\n",
       "    <tr>\n",
       "      <th>...</th>\n",
       "      <td>...</td>\n",
       "      <td>...</td>\n",
       "      <td>...</td>\n",
       "    </tr>\n",
       "    <tr>\n",
       "      <th>874</th>\n",
       "      <td>include on the distribution list and send out ...</td>\n",
       "      <td>\"'skean@enron.com'\" &lt;skean@enron.com&gt;</td>\n",
       "      <td>steven.kean@enron.com</td>\n",
       "    </tr>\n",
       "    <tr>\n",
       "      <th>875</th>\n",
       "      <td>Aruna,I shall be in London this week. Please, ...</td>\n",
       "      <td>Kaminski, Vince J</td>\n",
       "      <td>\"Aruna Inalsingh@Reval\" &lt;Aruna_Inalsingh@Reval...</td>\n",
       "    </tr>\n",
       "    <tr>\n",
       "      <th>876</th>\n",
       "      <td>Sandeep,This looks great. I would talk to all ...</td>\n",
       "      <td>Kaminski, Vince J</td>\n",
       "      <td>Kohli, Sandeep</td>\n",
       "    </tr>\n",
       "    <tr>\n",
       "      <th>877</th>\n",
       "      <td>Mike,Thanks for your message. The meeting on T...</td>\n",
       "      <td>vkamins@enron.com; vkaminski@aol.com</td>\n",
       "      <td>Mike Boughton &lt;boughton@maui.net&gt;@ENRON [mailto</td>\n",
       "    </tr>\n",
       "    <tr>\n",
       "      <th>878</th>\n",
       "      <td>Privileged &amp; Confidential Communication Attorn...</td>\n",
       "      <td>Walton, Steve; Mara, Susan; Comnes, Alan; Lawn...</td>\n",
       "      <td>Alvarez, Ray [mailto</td>\n",
       "    </tr>\n",
       "  </tbody>\n",
       "</table>\n",
       "<p>879 rows × 3 columns</p>\n",
       "</div>"
      ],
      "text/plain": [
       "                                                  body  \\\n",
       "0    Enron Wholesale Services - Office of the Chair...   \n",
       "1    -----Original Message-----Vince,FYI,Gwyn-----O...   \n",
       "2    John Brindle, David Cromley and others in the ...   \n",
       "3    Yes.  Contact either Gia or John and get the b...   \n",
       "4    breasoner@gibbs-bruns.com, mlk@pkns.com, gferg...   \n",
       "..                                                 ...   \n",
       "874  include on the distribution list and send out ...   \n",
       "875  Aruna,I shall be in London this week. Please, ...   \n",
       "876  Sandeep,This looks great. I would talk to all ...   \n",
       "877  Mike,Thanks for your message. The meeting on T...   \n",
       "878  Privileged & Confidential Communication Attorn...   \n",
       "\n",
       "                                                    to  \\\n",
       "0                               GILBERT-SMITH, DOUGLAS   \n",
       "1                                        Hudler, Cindy   \n",
       "2                         Steven J Kean/NA/Enron@Enron   \n",
       "3    Govt Affairs (w/Assts), Mark Palmer/Corp/Enron...   \n",
       "4    gfergus@brobeck.com@SMTP; Tim Belden; Susan J ...   \n",
       "..                                                 ...   \n",
       "874              \"'skean@enron.com'\" <skean@enron.com>   \n",
       "875                                  Kaminski, Vince J   \n",
       "876                                  Kaminski, Vince J   \n",
       "877               vkamins@enron.com; vkaminski@aol.com   \n",
       "878  Walton, Steve; Mara, Susan; Comnes, Alan; Lawn...   \n",
       "\n",
       "                                                 from_  \n",
       "0                         Mark Frevert, Chairman & CEO  \n",
       "1                                         Koepke, Gwyn  \n",
       "2    David Cromley@ENRON COMMUNICATIONS on 06/12/20...  \n",
       "3                                steven.kean@enron.com  \n",
       "4                                          Alan Comnes  \n",
       "..                                                 ...  \n",
       "874                              steven.kean@enron.com  \n",
       "875  \"Aruna Inalsingh@Reval\" <Aruna_Inalsingh@Reval...  \n",
       "876                                     Kohli, Sandeep  \n",
       "877    Mike Boughton <boughton@maui.net>@ENRON [mailto  \n",
       "878                               Alvarez, Ray [mailto  \n",
       "\n",
       "[879 rows x 3 columns]"
      ]
     },
     "execution_count": 3,
     "metadata": {},
     "output_type": "execute_result"
    }
   ],
   "source": [
    "email_df = pd.DataFrame(parse_into_emails(df.Message))\n",
    "email_df"
   ]
  },
  {
   "cell_type": "markdown",
   "metadata": {},
   "source": [
    "# Drop emails with empty body, to or from_ columns"
   ]
  },
  {
   "cell_type": "code",
   "execution_count": 4,
   "metadata": {},
   "outputs": [
    {
     "data": {
      "text/html": [
       "<div>\n",
       "<style scoped>\n",
       "    .dataframe tbody tr th:only-of-type {\n",
       "        vertical-align: middle;\n",
       "    }\n",
       "\n",
       "    .dataframe tbody tr th {\n",
       "        vertical-align: top;\n",
       "    }\n",
       "\n",
       "    .dataframe thead th {\n",
       "        text-align: right;\n",
       "    }\n",
       "</style>\n",
       "<table border=\"1\" class=\"dataframe\">\n",
       "  <thead>\n",
       "    <tr style=\"text-align: right;\">\n",
       "      <th></th>\n",
       "      <th>body</th>\n",
       "      <th>to</th>\n",
       "      <th>from_</th>\n",
       "    </tr>\n",
       "  </thead>\n",
       "  <tbody>\n",
       "    <tr>\n",
       "      <th>0</th>\n",
       "      <td>Enron Wholesale Services - Office of the Chair...</td>\n",
       "      <td>GILBERT-SMITH, DOUGLAS</td>\n",
       "      <td>Mark Frevert, Chairman &amp; CEO</td>\n",
       "    </tr>\n",
       "    <tr>\n",
       "      <th>1</th>\n",
       "      <td>-----Original Message-----Vince,FYI,Gwyn-----O...</td>\n",
       "      <td>Hudler, Cindy</td>\n",
       "      <td>Koepke, Gwyn</td>\n",
       "    </tr>\n",
       "    <tr>\n",
       "      <th>2</th>\n",
       "      <td>John Brindle, David Cromley and others in the ...</td>\n",
       "      <td>Steven J Kean/NA/Enron@Enron</td>\n",
       "      <td>David Cromley@ENRON COMMUNICATIONS on 06/12/20...</td>\n",
       "    </tr>\n",
       "    <tr>\n",
       "      <th>3</th>\n",
       "      <td>Yes.  Contact either Gia or John and get the b...</td>\n",
       "      <td>Govt Affairs (w/Assts), Mark Palmer/Corp/Enron...</td>\n",
       "      <td>steven.kean@enron.com</td>\n",
       "    </tr>\n",
       "    <tr>\n",
       "      <th>4</th>\n",
       "      <td>breasoner@gibbs-bruns.com, mlk@pkns.com, gferg...</td>\n",
       "      <td>gfergus@brobeck.com@SMTP; Tim Belden; Susan J ...</td>\n",
       "      <td>Alan Comnes</td>\n",
       "    </tr>\n",
       "    <tr>\n",
       "      <th>...</th>\n",
       "      <td>...</td>\n",
       "      <td>...</td>\n",
       "      <td>...</td>\n",
       "    </tr>\n",
       "    <tr>\n",
       "      <th>874</th>\n",
       "      <td>include on the distribution list and send out ...</td>\n",
       "      <td>\"'skean@enron.com'\" &lt;skean@enron.com&gt;</td>\n",
       "      <td>steven.kean@enron.com</td>\n",
       "    </tr>\n",
       "    <tr>\n",
       "      <th>875</th>\n",
       "      <td>Aruna,I shall be in London this week. Please, ...</td>\n",
       "      <td>Kaminski, Vince J</td>\n",
       "      <td>\"Aruna Inalsingh@Reval\" &lt;Aruna_Inalsingh@Reval...</td>\n",
       "    </tr>\n",
       "    <tr>\n",
       "      <th>876</th>\n",
       "      <td>Sandeep,This looks great. I would talk to all ...</td>\n",
       "      <td>Kaminski, Vince J</td>\n",
       "      <td>Kohli, Sandeep</td>\n",
       "    </tr>\n",
       "    <tr>\n",
       "      <th>877</th>\n",
       "      <td>Mike,Thanks for your message. The meeting on T...</td>\n",
       "      <td>vkamins@enron.com; vkaminski@aol.com</td>\n",
       "      <td>Mike Boughton &lt;boughton@maui.net&gt;@ENRON [mailto</td>\n",
       "    </tr>\n",
       "    <tr>\n",
       "      <th>878</th>\n",
       "      <td>Privileged &amp; Confidential Communication Attorn...</td>\n",
       "      <td>Walton, Steve; Mara, Susan; Comnes, Alan; Lawn...</td>\n",
       "      <td>Alvarez, Ray [mailto</td>\n",
       "    </tr>\n",
       "  </tbody>\n",
       "</table>\n",
       "<p>861 rows × 3 columns</p>\n",
       "</div>"
      ],
      "text/plain": [
       "                                                  body  \\\n",
       "0    Enron Wholesale Services - Office of the Chair...   \n",
       "1    -----Original Message-----Vince,FYI,Gwyn-----O...   \n",
       "2    John Brindle, David Cromley and others in the ...   \n",
       "3    Yes.  Contact either Gia or John and get the b...   \n",
       "4    breasoner@gibbs-bruns.com, mlk@pkns.com, gferg...   \n",
       "..                                                 ...   \n",
       "874  include on the distribution list and send out ...   \n",
       "875  Aruna,I shall be in London this week. Please, ...   \n",
       "876  Sandeep,This looks great. I would talk to all ...   \n",
       "877  Mike,Thanks for your message. The meeting on T...   \n",
       "878  Privileged & Confidential Communication Attorn...   \n",
       "\n",
       "                                                    to  \\\n",
       "0                               GILBERT-SMITH, DOUGLAS   \n",
       "1                                        Hudler, Cindy   \n",
       "2                         Steven J Kean/NA/Enron@Enron   \n",
       "3    Govt Affairs (w/Assts), Mark Palmer/Corp/Enron...   \n",
       "4    gfergus@brobeck.com@SMTP; Tim Belden; Susan J ...   \n",
       "..                                                 ...   \n",
       "874              \"'skean@enron.com'\" <skean@enron.com>   \n",
       "875                                  Kaminski, Vince J   \n",
       "876                                  Kaminski, Vince J   \n",
       "877               vkamins@enron.com; vkaminski@aol.com   \n",
       "878  Walton, Steve; Mara, Susan; Comnes, Alan; Lawn...   \n",
       "\n",
       "                                                 from_  \n",
       "0                         Mark Frevert, Chairman & CEO  \n",
       "1                                         Koepke, Gwyn  \n",
       "2    David Cromley@ENRON COMMUNICATIONS on 06/12/20...  \n",
       "3                                steven.kean@enron.com  \n",
       "4                                          Alan Comnes  \n",
       "..                                                 ...  \n",
       "874                              steven.kean@enron.com  \n",
       "875  \"Aruna Inalsingh@Reval\" <Aruna_Inalsingh@Reval...  \n",
       "876                                     Kohli, Sandeep  \n",
       "877    Mike Boughton <boughton@maui.net>@ENRON [mailto  \n",
       "878                               Alvarez, Ray [mailto  \n",
       "\n",
       "[861 rows x 3 columns]"
      ]
     },
     "execution_count": 4,
     "metadata": {},
     "output_type": "execute_result"
    }
   ],
   "source": [
    "email_df.drop(email_df.query(\"body == '' | to == '' | from_ == ''\").index, inplace=True)\n",
    "email_df"
   ]
  },
  {
   "cell_type": "markdown",
   "metadata": {},
   "source": [
    "# we are going to tokenize the bodies and convert them into a document-term matrix."
   ]
  },
  {
   "cell_type": "code",
   "execution_count": 5,
   "metadata": {},
   "outputs": [
    {
     "name": "stderr",
     "output_type": "stream",
     "text": [
      "C:\\Users\\SANOU\\AppData\\Local\\Programs\\Python\\Python310\\lib\\site-packages\\sklearn\\utils\\deprecation.py:87: FutureWarning: Function get_feature_names is deprecated; get_feature_names is deprecated in 1.0 and will be removed in 1.2. Please use get_feature_names_out instead.\n",
      "  warnings.warn(msg, category=FutureWarning)\n"
     ]
    },
    {
     "data": {
      "text/plain": [
       "64"
      ]
     },
     "execution_count": 5,
     "metadata": {},
     "output_type": "execute_result"
    }
   ],
   "source": [
    "stopwords = ENGLISH_STOP_WORDS.union(['ect', 'hou', 'com', 'recipient'])\n",
    "vect = TfidfVectorizer(analyzer='word', stop_words=stopwords, max_df=0.4, min_df=0.2)\n",
    "\n",
    "X = vect.fit_transform(email_df.body)\n",
    "features = vect.get_feature_names()\n",
    "len(features)"
   ]
  },
  {
   "cell_type": "markdown",
   "metadata": {},
   "source": [
    "# Let's print the top 10 terms in document 1"
   ]
  },
  {
   "cell_type": "code",
   "execution_count": 6,
   "metadata": {},
   "outputs": [
    {
     "name": "stdout",
     "output_type": "stream",
     "text": [
      "      features     score\n",
      "0     original  0.705803\n",
      "1      message  0.613011\n",
      "2     attached  0.355050\n",
      "3         year  0.000000\n",
      "4  information  0.000000\n",
      "5         good  0.000000\n",
      "6        group  0.000000\n",
      "7         help  0.000000\n",
      "8    including  0.000000\n",
      "9        issue  0.000000\n"
     ]
    }
   ],
   "source": [
    "print(top_feats_in_doc(X, features, 1, 10))"
   ]
  },
  {
   "cell_type": "markdown",
   "metadata": {},
   "source": [
    "# Now we print the top terms across all documents."
   ]
  },
  {
   "cell_type": "code",
   "execution_count": 7,
   "metadata": {},
   "outputs": [
    {
     "name": "stdout",
     "output_type": "stream",
     "text": [
      "     features     score\n",
      "0  california  0.092001\n",
      "1       power  0.091375\n",
      "2        said  0.085111\n",
      "3      energy  0.083378\n",
      "4     message  0.076997\n",
      "5        corp  0.071027\n",
      "6        ferc  0.067567\n",
      "7       state  0.065434\n",
      "8      market  0.065023\n",
      "9    original  0.061093\n"
     ]
    }
   ],
   "source": [
    "print(top_mean_feats(X, features, None, 0.1, 10))"
   ]
  },
  {
   "cell_type": "markdown",
   "metadata": {},
   "source": [
    "# As clustering algorithm KMeams is a perfect fit"
   ]
  },
  {
   "cell_type": "code",
   "execution_count": 8,
   "metadata": {},
   "outputs": [],
   "source": [
    "n_clusters = 3\n",
    "clf = KMeans(n_clusters=n_clusters, \n",
    "            max_iter=100, \n",
    "            init='k-means++', \n",
    "            n_init=1)\n",
    "labels = clf.fit_predict(X)\n",
    "\n",
    "#For larger datasets use mini-batch KMeans, so we dont have to read all data into memory.\n",
    "# batch_size = 500\n",
    "# clf = MiniBatchKMeans(n_clusters=n_clusters, init_size=1000, batch_size=batch_size, max_iter=100)  \n",
    "# clf.fit(X)"
   ]
  },
  {
   "cell_type": "markdown",
   "metadata": {},
   "source": [
    "# Let's plot this with matplotlib to visualize it"
   ]
  },
  {
   "cell_type": "code",
   "execution_count": 9,
   "metadata": {},
   "outputs": [
    {
     "name": "stderr",
     "output_type": "stream",
     "text": [
      "C:\\Users\\SANOU\\AppData\\Local\\Programs\\Python\\Python310\\lib\\site-packages\\sklearn\\utils\\validation.py:593: FutureWarning: np.matrix usage is deprecated in 1.0 and will raise a TypeError in 1.2. Please convert to a numpy array with np.asarray. For more information see: https://numpy.org/doc/stable/reference/generated/numpy.matrix.html\n",
      "  warnings.warn(\n",
      "C:\\Users\\SANOU\\AppData\\Local\\Programs\\Python\\Python310\\lib\\site-packages\\sklearn\\utils\\validation.py:593: FutureWarning: np.matrix usage is deprecated in 1.0 and will raise a TypeError in 1.2. Please convert to a numpy array with np.asarray. For more information see: https://numpy.org/doc/stable/reference/generated/numpy.matrix.html\n",
      "  warnings.warn(\n"
     ]
    },
    {
     "data": {
      "image/png": "[encoded data removed]",
      "text/plain": [
       "<Figure size 432x288 with 1 Axes>"
      ]
     },
     "metadata": {
      "needs_background": "light"
     },
     "output_type": "display_data"
    }
   ],
   "source": [
    "# First we need to make 2D coordinates from the sparse matrix.\n",
    "X_dense = X.todense()\n",
    "pca = PCA(n_components=2).fit(X_dense)\n",
    "coords = pca.transform(X_dense)\n",
    "\n",
    "plt.scatter(coords[:, 0], coords[:, 1], c='m')\n",
    "plt.show()"
   ]
  },
  {
   "cell_type": "markdown",
   "metadata": {},
   "source": [
    "# Lets plot it again, but this time we add some color to it."
   ]
  },
  {
   "cell_type": "code",
   "execution_count": 10,
   "metadata": {},
   "outputs": [
    {
     "data": {
      "image/png": "[encoded data removed]",
      "text/plain": [
       "<Figure size 432x288 with 1 Axes>"
      ]
     },
     "metadata": {
      "needs_background": "light"
     },
     "output_type": "display_data"
    }
   ],
   "source": [
    "label_colors = [\"#2AB0E9\", \"#2BAF74\", \"#D7665E\", \"#CCCCCC\", \n",
    "                \"#D2CA0D\", \"#522A64\", \"#A3DB05\", \"#FC6514\"]\n",
    "colors = [label_colors[i] for i in labels]\n",
    "\n",
    "plt.scatter(coords[:, 0], coords[:, 1], c=colors)\n",
    "plt.show()"
   ]
  },
  {
   "cell_type": "markdown",
   "metadata": {},
   "source": [
    "# Cluster Centers"
   ]
  },
  {
   "cell_type": "code",
   "execution_count": 11,
   "metadata": {},
   "outputs": [
    {
     "data": {
      "image/png": "[encoded data removed]",
      "text/plain": [
       "<Figure size 432x288 with 1 Axes>"
      ]
     },
     "metadata": {
      "needs_background": "light"
     },
     "output_type": "display_data"
    }
   ],
   "source": [
    "centroids = clf.cluster_centers_\n",
    "centroid_coords = pca.transform(centroids)\n",
    "plt.scatter(centroid_coords[:, 0], centroid_coords[:, 1], marker='X', s=200, linewidths=2, c='#444d60')\n",
    "plt.show()"
   ]
  },
  {
   "cell_type": "markdown",
   "metadata": {},
   "source": [
    "# Use this to print the top terms per cluster with matplotlib."
   ]
  },
  {
   "cell_type": "code",
   "execution_count": 12,
   "metadata": {},
   "outputs": [
    {
     "data": {
      "image/png": "[encoded data removed]",
      "text/plain": [
       "<Figure size 864x648 with 3 Axes>"
      ]
     },
     "metadata": {},
     "output_type": "display_data"
    }
   ],
   "source": [
    "plot_tfidf_classfeats_h(top_feats_per_cluster(X, labels, features, 0.1, 25))"
   ]
  },
  {
   "cell_type": "markdown",
   "metadata": {},
   "source": [
    "# Part 2"
   ]
  },
  {
   "cell_type": "code",
   "execution_count": 13,
   "metadata": {},
   "outputs": [],
   "source": [
    "from sklearn.feature_extraction.text import TfidfVectorizer, ENGLISH_STOP_WORDS\n",
    "from sklearn.metrics.pairwise import linear_kernel\n",
    "import pandas as pd\n",
    "\n",
    "from ml_helpers import parse_into_emails\n",
    "from ml_query import EmailDataset"
   ]
  },
  {
   "cell_type": "markdown",
   "metadata": {},
   "source": [
    "# Just like in part_1, read and preprocess emails"
   ]
  },
  {
   "cell_type": "code",
   "execution_count": 14,
   "metadata": {},
   "outputs": [],
   "source": [
    "emails = pd.read_csv('giskard_dataset.csv', delimiter=';') \n",
    "email_df = pd.DataFrame(parse_into_emails(emails.Message))\n",
    "email_df.drop(email_df.query(\"body == '' | to == '' | from_ == ''\").index, inplace=True)\n",
    "\n",
    "stopwords = ENGLISH_STOP_WORDS.union(['ect', 'hou', 'com', 'recipient'])\n",
    "vec = TfidfVectorizer(analyzer='word', stop_words=stopwords, max_df=0.3, min_df=2)\n",
    "vec_train = vec.fit_transform(email_df.body)"
   ]
  },
  {
   "cell_type": "markdown",
   "metadata": {},
   "source": [
    "# print out the vector of the first email"
   ]
  },
  {
   "cell_type": "code",
   "execution_count": 15,
   "metadata": {},
   "outputs": [
    {
     "name": "stdout",
     "output_type": "stream",
     "text": [
      "  (0, 281)\t0.12545824630071073\n",
      "  (0, 17522)\t0.12693106739878915\n",
      "  (0, 11049)\t0.09862273536757836\n",
      "  (0, 4161)\t0.12545824630071073\n",
      "  (0, 12539)\t0.20145472425517794\n",
      "  (0, 7520)\t0.10553518854407166\n",
      "  (0, 7237)\t0.0848608427511235\n",
      "  (0, 9141)\t0.09913299668030241\n",
      "  (0, 22100)\t0.06884158223828912\n",
      "  (0, 19367)\t0.06948579964905705\n",
      "  (0, 15129)\t0.09400913615906799\n",
      "  (0, 20765)\t0.10362562217245333\n",
      "  (0, 23744)\t0.13193395420366416\n",
      "  (0, 17276)\t0.07082466464909161\n",
      "  (0, 9500)\t0.12028749340210314\n",
      "  (0, 22109)\t0.08638598336820275\n",
      "  (0, 5057)\t0.07636064539354473\n",
      "  (0, 24618)\t0.08051077559911475\n",
      "  (0, 17073)\t0.12545824630071073\n",
      "  (0, 22420)\t0.11407338525119332\n",
      "  (0, 29189)\t0.07636064539354473\n",
      "  (0, 23191)\t0.10128152013620226\n",
      "  (0, 12659)\t0.10184785841176659\n",
      "  (0, 23184)\t0.06981405063913\n",
      "  (0, 22949)\t0.07471097147867334\n",
      "  (0, 8258)\t0.25091649260142146\n",
      "  (0, 29883)\t0.12656668605276672\n",
      "  (0, 7861)\t0.22814677050238663\n",
      "  (0, 361)\t0.13550312366992354\n",
      "  (0, 21634)\t0.398614267986667\n",
      "  (0, 21082)\t0.38123442331945395\n",
      "  (0, 9055)\t0.3206750348223183\n",
      "  (0, 8257)\t0.2762961247091479\n",
      "  (0, 9696)\t0.1463537724581907\n",
      "  (0, 13736)\t0.07134523496545594\n",
      "  (0, 10746)\t0.07593822028946277\n",
      "  (0, 17705)\t0.09812238267034082\n",
      "  (0, 14289)\t0.11145071450986181\n",
      "  (0, 8276)\t0.14331881525318158\n",
      "  (0, 19572)\t0.06981405063913\n",
      "  (0, 24185)\t0.07117054036916443\n",
      "  (0, 29412)\t0.06964940244789987\n"
     ]
    }
   ],
   "source": [
    "\n",
    "print(vec_train[0:1])"
   ]
  },
  {
   "cell_type": "markdown",
   "metadata": {},
   "source": [
    "# Find cosine similarity between the first email and all others."
   ]
  },
  {
   "cell_type": "code",
   "execution_count": 16,
   "metadata": {},
   "outputs": [
    {
     "name": "stdout",
     "output_type": "stream",
     "text": [
      "[1.         0.         0.01395559 0.0167945  0.         0.02278964\n",
      " 0.         0.01620356 0.02362332 0.         0.         0.01483774\n",
      " 0.016145   0.03113387 0.00239628 0.00506042 0.00633972 0.\n",
      " 0.01180549 0.00126368 0.         0.02362332 0.00189799 0.034295\n",
      " 0.01434256 0.         0.0027211  0.01137363 0.0729444  0.02346899\n",
      " 0.         0.00964407 0.03557265 0.01109786 0.01099641 0.013405\n",
      " 0.         0.04923282 0.00629835 0.01297226 0.00620057 0.\n",
      " 0.00603131 0.         0.         0.0023792  0.00986685 0.02617178\n",
      " 0.01354207 0.00424428 0.         0.00952945 0.         0.02951985\n",
      " 0.00938517 0.         0.03082181 0.00376696 0.01879593 0.03890862\n",
      " 0.02362332 0.03380021 0.0244264  0.01108647 0.0028276  0.03939493\n",
      " 0.         0.00499555 0.0052017  0.03480186 0.0126695  0.0037966\n",
      " 0.00941445 0.02078219 0.00419999 0.00713493 0.01870097 0.\n",
      " 0.00514785 0.         0.00627522 0.00590706 0.01101416 0.\n",
      " 0.00445436 0.         0.         0.01205238 0.01222161 0.02951985\n",
      " 0.         0.00695145 0.00867664 0.01324594 0.02059347 0.00803613\n",
      " 0.02144776 0.02530555 0.02281877 0.         0.00397813 0.\n",
      " 0.00959499 0.02464587 0.00751054 0.01222108 0.         0.\n",
      " 0.0122989  0.00667944 0.01374289 0.00598294 0.00284532 0.\n",
      " 0.01357987 0.         0.02142982 0.01243682 0.         0.01487264\n",
      " 0.00451536 0.02434806 0.0066382  0.0112087  0.00939333 0.00432517\n",
      " 0.09004524 0.         0.         0.02091527 0.01227698 0.\n",
      " 0.94805251 0.         0.02562864 0.00380219 0.0131521  0.\n",
      " 0.01352404 0.02320658 0.01811009 0.         0.01153998 0.02362332\n",
      " 0.         0.         0.00917605 0.         0.         0.\n",
      " 0.01903568 0.         0.00522359 0.         0.         0.\n",
      " 0.00631569 0.01297775 0.02782919 0.61209356 0.0056094  0.00925595\n",
      " 0.         0.01459569 0.04531292 0.00735734 0.03153044 0.\n",
      " 0.00743784 0.01862341 0.01034836 0.02232539 0.60678869 0.00397165\n",
      " 0.         0.01373648 0.         0.         0.         0.01393233\n",
      " 0.         0.00444293 0.00953418 0.00398925 0.         0.01248837\n",
      " 0.02688829 0.         0.         0.         0.         0.02713366\n",
      " 0.00432354 0.00290051 0.         0.         0.00926278 0.0307862\n",
      " 0.00838399 0.00613951 0.01423479 0.61209356 0.00310901 0.0509541\n",
      " 0.00588228 0.00645984 0.0124508  0.         0.04177132 0.\n",
      " 0.         0.01045259 0.         0.00547962 0.01708484 0.\n",
      " 0.01853089 0.         0.01644947 0.         0.0100176  0.0138199\n",
      " 0.         0.         0.02762512 0.03782986 0.         0.\n",
      " 0.00249879 0.         0.03939493 0.0063976  0.02464587 0.\n",
      " 0.00455999 0.01082514 0.00293782 0.00892796 0.02218272 0.\n",
      " 0.02591861 0.01931688 0.         0.02530555 0.         0.00110542\n",
      " 0.         0.00634494 0.00396256 0.00640939 0.         0.0125793\n",
      " 0.01072778 0.00265705 0.0126121  0.01342049 0.01785012 0.01863226\n",
      " 0.01121243 0.         1.         0.0127166  0.10034249 0.0135635\n",
      " 0.02164692 0.00468313 0.01789305 0.0105528  1.         0.00972182\n",
      " 0.00533744 0.         0.0445119  0.02093002 0.00595323 0.\n",
      " 0.01123163 0.         0.00472104 0.         0.00613963 0.02651124\n",
      " 0.00386739 0.00919108 0.00485482 0.03180626 0.01085225 0.00723074\n",
      " 0.00777267 0.00953775 0.         0.         0.         0.0244264\n",
      " 0.         0.00293904 0.03511166 0.01475736 0.         0.02220726\n",
      " 0.01993019 0.00431367 0.01738621 0.00281861 0.         0.00753718\n",
      " 1.         0.00821576 0.00565535 0.00567546 0.0163013  0.00613503\n",
      " 0.         0.01574416 0.04116062 0.         0.00625878 0.02937523\n",
      " 0.         0.02628902 0.         0.03737391 0.         0.\n",
      " 0.0026855  0.01449479 0.00786064 0.04206632 0.         0.\n",
      " 1.         0.         0.0125391  0.         0.00349005 0.\n",
      " 0.01108644 0.00304012 0.01488397 0.01505843 0.         0.00282691\n",
      " 0.00933569 0.00686482 0.00616068 0.02464587 0.02227046 0.\n",
      " 0.00394352 0.03061892 0.00690374 0.         0.         0.01550882\n",
      " 0.00658468 0.00905872 0.01243147 0.01242191 0.02951985 0.01754745\n",
      " 0.         0.         0.01437191 0.00713589 0.03939493 0.03514073\n",
      " 0.         0.02861717 0.         0.         0.00348702 0.03670162\n",
      " 0.         0.         0.         0.01640479 0.0105808  0.00810205\n",
      " 0.         0.         0.00815739 0.015218   0.00958405 0.0119824\n",
      " 0.00686178 0.00781112 0.01483774 0.03931353 0.0405168  0.01071984\n",
      " 0.02281877 0.00145667 0.02422538 0.         0.00451669 0.01935877\n",
      " 0.06385082 0.         0.         0.         0.00948105 0.\n",
      " 0.         0.00777311 0.01172756 0.02630055 0.01244373 0.61209356\n",
      " 0.         0.         0.         0.01018814 0.00556862 0.\n",
      " 0.         0.79472799 0.02621687 0.00502805 0.         0.00901602\n",
      " 0.         0.00356425 0.01877131 0.03070668 0.01822203 0.00663472\n",
      " 0.03012493 0.03234925 0.00866506 0.00869995 0.         0.0244264\n",
      " 0.03032586 0.         0.         0.0163625  0.         0.00597567\n",
      " 0.03939493 0.67365108 0.         0.02327835 0.03038967 0.04163594\n",
      " 0.01291616 0.02951985 0.00471363 0.0208716  0.00422397 0.02951985\n",
      " 0.0064296  0.03939493 0.01256613 0.0091808  0.00335911 0.00788234\n",
      " 0.         0.         0.         0.02060257 0.02240907 0.61209356\n",
      " 0.00618397 0.         0.00286421 0.00352832 0.00307503 0.00830906\n",
      " 0.         0.02530555 0.00786871 0.         0.00503057 0.00964407\n",
      " 0.         0.03705208 0.00283075 0.01309218 0.00387048 0.00236248\n",
      " 0.01799391 0.         0.01409574 0.00601941 0.         0.02912424\n",
      " 0.61209356 0.         0.00513307 0.0035095  0.01192595 0.00352056\n",
      " 0.00895626 0.00556375 0.00894921 0.00665016 0.02166391 0.0329589\n",
      " 0.03345673 0.01238907 0.0191669  0.         0.         0.01338776\n",
      " 0.         0.01402473 0.         0.         0.         0.02079613\n",
      " 0.00864339 0.02862221 0.         0.01720899 0.01698447 0.\n",
      " 0.00250091 0.         0.02852411 0.00420486 0.         0.00884487\n",
      " 0.         0.02120524 0.00392019 0.00294037 0.01811879 0.01040227\n",
      " 0.00951357 0.         0.00757434 0.03070668 0.00546925 0.01845298\n",
      " 0.03939493 0.02281877 0.         0.00673353 0.00249648 0.00835659\n",
      " 0.00674927 0.01731059 0.00419144 0.03589987 0.         0.\n",
      " 0.         0.0159414  0.17111936 0.04005247 0.0244264  0.0244264\n",
      " 0.00737059 0.00478734 1.         0.00732453 0.00932874 0.0075261\n",
      " 0.00790919 0.0329212  0.         0.01131278 0.         0.00280928\n",
      " 0.00538152 0.00979051 0.01876806 0.02951054 0.00575297 0.\n",
      " 0.01297647 0.01467875 0.01236021 0.00557719 0.00627663 0.01504339\n",
      " 0.00770298 0.         0.         0.         0.01480614 0.\n",
      " 0.03514073 0.         0.03915225 0.01270424 0.02513555 0.00446615\n",
      " 0.06795829 0.01533735 0.02735325 0.00914368 0.03939493 0.00134582\n",
      " 0.00279276 0.00513208 0.00924784 0.         0.0157241  0.\n",
      " 0.02336218 0.01547696 0.00717909 0.         0.06555519 0.00731179\n",
      " 0.00960637 0.00575125 0.00714581 0.00699452 0.02202048 0.00723904\n",
      " 0.         0.01654593 0.00632552 0.01160497 0.00601303 0.\n",
      " 0.00937102 0.01155397 0.00580107 0.02646916 0.         0.12513972\n",
      " 0.01216885 0.01101184 0.00429279 0.00902962 0.         0.00438376\n",
      " 0.04511051 0.00486551 0.01172002 0.         0.02562864 0.02977246\n",
      " 0.01410099 0.00936273 0.00475749 0.0087828  0.0094377  0.00995738\n",
      " 0.         0.01818325 0.00499759 0.00445441 0.01823544 0.00381508\n",
      " 0.00353175 0.0175766  0.         0.         0.0117884  0.00839616\n",
      " 0.         0.03557265 0.03226095 0.02362332 0.         0.\n",
      " 0.         0.00593228 0.         0.00985888 0.00968298 0.\n",
      " 0.         0.01387866 0.         0.00571578 0.01386453 0.00394519\n",
      " 0.61209356 0.         0.02345856 0.02364135 0.         0.03514073\n",
      " 0.         0.         0.00240855 0.01608592 0.00874062 0.00329856\n",
      " 0.01700123 0.00517095 0.         0.         0.03514073 0.01479844\n",
      " 0.0247611  0.00526422 0.         0.07001215 0.00421768 0.0509541\n",
      " 0.00781789 0.02076248 0.00833545 0.01386843 0.04923282 0.\n",
      " 0.00618041 0.0827306  0.         0.00821213 0.00223171 0.\n",
      " 0.00765563 0.         0.00528274 0.00888092 0.         0.0063812\n",
      " 0.         0.00913253 0.         0.00555044 0.01767067 0.01568914\n",
      " 0.00397554 0.04498479 0.         0.         0.00281333 0.00511028\n",
      " 0.00748767 0.         0.01504807 0.02898506 0.00614613 0.01357831\n",
      " 0.0154457  0.01457986 0.         0.01020326 0.         0.00258714\n",
      " 0.00138773 0.01197943 0.01549918 0.00610306 0.00353108 0.00662113\n",
      " 0.0035734  0.01128323 0.         0.00601436 0.         0.\n",
      " 0.0119592  0.02370712 0.         0.01006119 0.02338674 0.03514073\n",
      " 0.01938686 0.00410136 0.         0.01480514 0.         0.01021268\n",
      " 0.00452703 0.         0.01191453 0.02651451 0.00473585 0.\n",
      " 0.         0.00871504 0.         0.01145058 0.         0.\n",
      " 0.         0.         0.00932616 0.02713366 0.04498479 0.\n",
      " 0.00794015 0.01330281 0.0111997  0.61209356 0.01205781 0.0056575\n",
      " 0.01071984 0.0068875  0.00863011 0.         0.         0.00894776\n",
      " 0.01051039 0.01037811 0.         0.         0.00200499 0.\n",
      " 0.01490244 0.014318   0.         0.         0.00572566 0.00660935\n",
      " 0.         0.03070668 0.04823031 0.03070668 0.         0.01873877\n",
      " 0.         0.01317245 0.02600052 0.         0.00593892 0.03070668\n",
      " 0.00484965 0.         0.02911314 0.01600733 0.00417585 0.04975087\n",
      " 0.         0.0428844  0.00921317 0.02767669 0.         0.0055642\n",
      " 0.00724531 0.00517756 0.03120557 0.01166701 0.         0.0179158\n",
      " 0.         0.0105829  0.00937324 0.00898837 0.         0.00561326\n",
      " 0.00961801 0.         0.         0.         0.0121825  0.01212274\n",
      " 0.01228001 0.         0.01368058 0.01818945 0.         0.00544824\n",
      " 0.0048041  0.00538987 0.         0.01151971 0.00516468 0.0036687\n",
      " 0.         0.         0.        ]\n"
     ]
    }
   ],
   "source": [
    "cosine_sim = linear_kernel(vec_train[0:1], vec_train).flatten()\n",
    "\n",
    "# print out the cosine similarities\n",
    "print(cosine_sim)"
   ]
  },
  {
   "cell_type": "code",
   "execution_count": 17,
   "metadata": {},
   "outputs": [],
   "source": [
    "# Finding emails related to a query.\n",
    "query = \"john\"\n",
    "\n",
    "# Transform the query into the original vector\n",
    "vec_query = vec.transform([query])\n",
    "\n",
    "cosine_sim = linear_kernel(vec_query, vec_train).flatten()"
   ]
  },
  {
   "cell_type": "code",
   "execution_count": 18,
   "metadata": {},
   "outputs": [
    {
     "name": "stdout",
     "output_type": "stream",
     "text": [
      "[771 637 113 774 162 802 393 458  54]\n",
      "---------------------- Forwarded by Steven J Kean/NA/Enron on 09/13/2000AM ---------------------------Enron Energy ServicesLaren Dean Tarbet/HOU/EES@EES, Robert Frank/NA/Enron@Enron, Cynthia Sandherr,Peggy Mahoney/HOU/EES@EES, Rick Shapiro, Steve KeanElizabeth Tilney/HOU/EES@EES, Lou Pai, Thomas E White/HOU/EES@EES, DanLeff/HOU/EES@EES, Elizabeth Tilney/HOU/EES@EESSee below.  VEPCO  intends to challenge the USMDW privatization.  Moredetails to come.AM ---------------------------Robert C Williams@ENRON_DEVELOPMENTI have scheduled a meeting with Larry Adams, the Asst. U.S. Attorney, andthat VEPCO has told him that it plans to file a challenge to the GAO'sdecision in the Court of Federal Claims this week.  I have also spoken toAndy Holloman;  we will call him from the Venable office for a \"download\" onthe Colorado case.Ideas on D.C. counsel?  V&E or Venable are the logical choices;  offhand Iwould propose V&E.\n"
     ]
    }
   ],
   "source": [
    "# Find top 10 most related emails to the query.\n",
    "related_email_indices = cosine_sim.argsort()[:-10:-1]\n",
    "# print out the indices of the 10 most related emails.\n",
    "print(related_email_indices)\n",
    "\n",
    "# print out the first email \n",
    "first_email_index = related_email_indices[0]\n",
    "print(email_df.body[first_email_index])"
   ]
  }
 ],
 "metadata": {
  "interpreter": {
   "hash": "7dbeee07aa18e2c410ae6d31d6c19e586a0d6224d0a70b8bcacbf6868e7dcedd"
  },
  "kernelspec": {
   "display_name": "Python 3.10.1 64-bit",
   "language": "python",
   "name": "python3"
  },
  "language_info": {
   "codemirror_mode": {
    "name": "ipython",
    "version": 3
   },
   "file_extension": ".py",
   "mimetype": "text/x-python",
   "name": "python",
   "nbconvert_exporter": "python",
   "pygments_lexer": "ipython3",
   "version": "3.10.1"
  },
  "orig_nbformat": 4
 },
 "nbformat": 4,
 "nbformat_minor": 2
}
