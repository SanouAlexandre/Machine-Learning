{
 "cells": [
  {
   "cell_type": "code",
   "execution_count": null,
   "metadata": {},
   "outputs": [],
   "source": [
    "import numpy as np\n",
    "import pandas as pd"
   ]
  },
  {
   "cell_type": "markdown",
   "metadata": {},
   "source": [
    "# In this section, we first load the dataset into a pandas dataframe and then perform some basic exploratory data analysis (EDA)."
   ]
  },
  {
   "cell_type": "code",
   "execution_count": null,
   "metadata": {},
   "outputs": [],
   "source": [
    "df = pd.read_csv('ml_dataset.csv', delimiter=';')\n",
    "df.head()\n",
    "#df"
   ]
  },
  {
   "cell_type": "code",
   "execution_count": null,
   "metadata": {},
   "outputs": [],
   "source": [
    "#Labels\n",
    "\n",
    "df['Target']"
   ]
  },
  {
   "cell_type": "code",
   "execution_count": null,
   "metadata": {},
   "outputs": [],
   "source": [
    "#Emails content\n",
    "df['Message']"
   ]
  },
  {
   "cell_type": "code",
   "execution_count": null,
   "metadata": {},
   "outputs": [],
   "source": [
    "df.drop(df.query(\n",
    "    \"Target == '' | Message == ''\"\n",
    ").index, inplace=True)\n",
    "\n",
    "print(df.shape)"
   ]
  },
  {
   "cell_type": "markdown",
   "metadata": {},
   "source": [
    "# Our text features are present in the Message column and their corresponding labels are in target"
   ]
  },
  {
   "cell_type": "code",
   "execution_count": null,
   "metadata": {},
   "outputs": [],
   "source": [
    "print(f\"There are {len(df)} rows in the dataset.\")"
   ]
  },
  {
   "cell_type": "markdown",
   "metadata": {},
   "source": [
    "# Features extraction"
   ]
  },
  {
   "cell_type": "code",
   "execution_count": null,
   "metadata": {},
   "outputs": [],
   "source": [
    "subject_list = []\n",
    "for test_string in df['Message']:\n",
    "    start_idx = test_string.find('Subject:')\n",
    "    end_idx = test_string[start_idx:].find('\\n')\n",
    "    new_string = test_string[start_idx:start_idx+end_idx]\n",
    "    subject_list.append(new_string)\n",
    "\n",
    "\n",
    "df_subject_list = pd.DataFrame(subject_list, columns =['Subject'])\n",
    "df_subject_list"
   ]
  },
  {
   "cell_type": "code",
   "execution_count": null,
   "metadata": {},
   "outputs": [],
   "source": [
    "df_subject_list.drop(df_subject_list.query(\n",
    "    \"Subject == ''\"\n",
    ").index, inplace=True)\n",
    "\n",
    "print(df_subject_list.shape)"
   ]
  },
  {
   "cell_type": "code",
   "execution_count": null,
   "metadata": {},
   "outputs": [],
   "source": [
    "date_list = []\n",
    "for test_string in df['Message']:\n",
    "    start_idx = test_string.find('Date:')\n",
    "    end_idx = test_string[start_idx:].find('\\n')\n",
    "    new_string = test_string[start_idx:start_idx+end_idx]\n",
    "    date_list.append(new_string)\n",
    "\n",
    "\n",
    "df_date_list = pd.DataFrame(date_list, columns =['Date'])\n",
    "df_date_list"
   ]
  },
  {
   "cell_type": "code",
   "execution_count": null,
   "metadata": {},
   "outputs": [],
   "source": [
    "df_date_list.drop(df_date_list.query(\n",
    "    \"Date == ''\"\n",
    ").index, inplace=True)\n",
    "\n",
    "print(df_date_list.shape)"
   ]
  },
  {
   "cell_type": "code",
   "execution_count": null,
   "metadata": {},
   "outputs": [],
   "source": [
    "from_list = []\n",
    "for test_string in df['Message']:\n",
    "    start_idx = test_string.find('From:')\n",
    "    end_idx = test_string[start_idx:].find('\\n')\n",
    "    new_string = test_string[start_idx:start_idx+end_idx]\n",
    "    from_list.append(new_string)\n",
    "\n",
    "\n",
    "df_from_list = pd.DataFrame(from_list, columns =['From'])\n",
    "\n",
    "df_from_list"
   ]
  },
  {
   "cell_type": "code",
   "execution_count": null,
   "metadata": {},
   "outputs": [],
   "source": [
    "df_from_list.drop(df_from_list.query(\n",
    "    \"From == ''\"\n",
    ").index, inplace=True)\n",
    "\n",
    "print(df_from_list.shape)"
   ]
  },
  {
   "cell_type": "markdown",
   "metadata": {},
   "source": [
    "# Analyzing features"
   ]
  },
  {
   "cell_type": "code",
   "execution_count": null,
   "metadata": {},
   "outputs": [],
   "source": [
    "import matplotlib.pyplot as plt\n",
    "from collections import Counter\n",
    "\n",
    "c = np.asarray(df['Target'])\n",
    "c_count = Counter(c)\n",
    "print(c_count)\n",
    "plt.bar(c_count.keys(), c_count.values())"
   ]
  },
  {
   "cell_type": "code",
   "execution_count": null,
   "metadata": {},
   "outputs": [],
   "source": [
    "from collections import Counter\n",
    "c = np.asarray(df_subject_list['Subject'])\n",
    "c_count = Counter(c)\n",
    "c_count"
   ]
  },
  {
   "cell_type": "code",
   "execution_count": null,
   "metadata": {},
   "outputs": [],
   "source": [
    "from collections import Counter\n",
    "c = np.asarray(df_date_list['Date'])\n",
    "c_count = Counter(c)\n",
    "c_count"
   ]
  },
  {
   "cell_type": "code",
   "execution_count": null,
   "metadata": {},
   "outputs": [],
   "source": [
    "from collections import Counter\n",
    "c = np.asarray(df_from_list['From'])\n",
    "c_count = Counter(c)\n",
    "c_count"
   ]
  },
  {
   "cell_type": "markdown",
   "metadata": {},
   "source": [
    "# Testing and Training Data preparation"
   ]
  },
  {
   "cell_type": "code",
   "execution_count": null,
   "metadata": {},
   "outputs": [],
   "source": [
    "from sklearn.feature_extraction.text import CountVectorizer\n",
    "from sklearn.naive_bayes import MultinomialNB, GaussianNB\n",
    "from sklearn import svm\n",
    "from sklearn.model_selection import GridSearchCV"
   ]
  },
  {
   "cell_type": "markdown",
   "metadata": {},
   "source": [
    "# The splitting of x and y data into four parts: x_train,y_train,x_test, and y_test"
   ]
  },
  {
   "cell_type": "code",
   "execution_count": null,
   "metadata": {},
   "outputs": [],
   "source": [
    "x_data=df_subject_list['Subject']\n",
    "y_data=df['Target']\n",
    "\n",
    "split =(int)(0.3*df.shape[0])\n",
    "x_train=x_data[:split]\n",
    "x_test=x_data[split:]\n",
    "y_train=y_data[:split]\n",
    "y_test=y_data[split:]"
   ]
  },
  {
   "cell_type": "markdown",
   "metadata": {},
   "source": [
    "# Convert features to numbeurs"
   ]
  },
  {
   "cell_type": "code",
   "execution_count": null,
   "metadata": {},
   "outputs": [],
   "source": [
    "count_vector = CountVectorizer()  \n",
    "extracted_features = count_vector.fit_transform(x_train)\n",
    "print(extracted_features)"
   ]
  },
  {
   "cell_type": "markdown",
   "metadata": {},
   "source": [
    "# Training the Model"
   ]
  },
  {
   "cell_type": "code",
   "execution_count": null,
   "metadata": {},
   "outputs": [],
   "source": [
    "tuned_parameters = {'kernel': ['rbf','linear'], 'gamma': [1e-3, 1e-4],'C': [1, 10, 100, 1000]}\n",
    "model = GridSearchCV(svm.SVC(), tuned_parameters)\n",
    "model.fit(extracted_features,y_train)\n",
    "\n",
    "print(\"Model Trained Successfully!\")"
   ]
  },
  {
   "cell_type": "markdown",
   "metadata": {},
   "source": [
    "# Computing Accuracy "
   ]
  },
  {
   "cell_type": "code",
   "execution_count": null,
   "metadata": {},
   "outputs": [],
   "source": [
    "print(\"Accuracy of the model is: \",model.score(count_vector.transform(x_test),y_test)*100)"
   ]
  }
 ],
 "metadata": {
  "interpreter": {
   "hash": "7dbeee07aa18e2c410ae6d31d6c19e586a0d6224d0a70b8bcacbf6868e7dcedd"
  },
  "kernelspec": {
   "display_name": "Python 3.10.1 64-bit",
   "language": "python",
   "name": "python3"
  },
  "language_info": {
   "codemirror_mode": {
    "name": "ipython",
    "version": 3
   },
   "file_extension": ".py",
   "mimetype": "text/x-python",
   "name": "python",
   "nbconvert_exporter": "python",
   "pygments_lexer": "ipython3",
   "version": "3.10.1"
  },
  "orig_nbformat": 4
 },
 "nbformat": 4,
 "nbformat_minor": 2
}
